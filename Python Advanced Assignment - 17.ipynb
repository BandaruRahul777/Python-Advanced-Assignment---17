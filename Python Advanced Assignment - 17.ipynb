{
 "cells": [
  {
   "cell_type": "code",
   "execution_count": null,
   "id": "6ee41bdf",
   "metadata": {},
   "outputs": [],
   "source": [
    "Question 1"
   ]
  },
  {
   "cell_type": "code",
   "execution_count": null,
   "id": "7a6074a7",
   "metadata": {},
   "outputs": [],
   "source": [
    "The Main difference between Greedy and Non Greedy Match Syntax is The Greedy Match will try to match\n",
    "as many repetitions of the quantified pattern as possible Whereas The Non Greedy Match will try to\n",
    "match as few repetitions of the quantified pattern as possible"
   ]
  },
  {
   "cell_type": "code",
   "execution_count": 3,
   "id": "f5af50f0",
   "metadata": {},
   "outputs": [
    {
     "name": "stdout",
     "output_type": "stream",
     "text": [
      "['xxxxxx', '']\n",
      "['', 'k', '', 'k', '', 'k', '', 'k', '', 'k', '', 'k', '']\n"
     ]
    }
   ],
   "source": [
    "import re\n",
    "print(re.findall(\"x*\", \"xxxxxx\")) # Greedy Match Synatx\n",
    "print(re.findall(\"k*?\", \"kkkkkk\")) # Non Greddy Syntax"
   ]
  },
  {
   "cell_type": "code",
   "execution_count": null,
   "id": "b9119756",
   "metadata": {},
   "outputs": [],
   "source": [
    "Question 2"
   ]
  },
  {
   "cell_type": "code",
   "execution_count": null,
   "id": "0e70c147",
   "metadata": {},
   "outputs": [],
   "source": [
    "The Greedy Match will try to match as many repetitions of the quantified pattern as possible.\n",
    "The Non Greedy Match will try to match as few repetitions of the quantified pattern as possible.\n",
    "If only Non Greedy Match is available, we can use other filtering or pattern matching methods of\n",
    "regex and further identify the required pattern."
   ]
  },
  {
   "cell_type": "code",
   "execution_count": null,
   "id": "7317e32d",
   "metadata": {},
   "outputs": [],
   "source": [
    "Question 3"
   ]
  },
  {
   "cell_type": "code",
   "execution_count": null,
   "id": "81ae5fd8",
   "metadata": {},
   "outputs": [],
   "source": [
    "In this Case The Non Tagged Group will not make any diffrence in this case."
   ]
  },
  {
   "cell_type": "code",
   "execution_count": 4,
   "id": "fc283a2b",
   "metadata": {},
   "outputs": [
    {
     "name": "stdout",
     "output_type": "stream",
     "text": [
      "Phone number found -> 123\n",
      "Phone number found -> 123\n"
     ]
    }
   ],
   "source": [
    "import re\n",
    "phoneNumRegex = re.compile(r'\\d\\d\\d')\n",
    "num = phoneNumRegex.search('My number is 123-456-7890.')\n",
    "print(f'Phone number found -> {num.group()}') # Non Tagged group\n",
    "print(f'Phone number found -> {num.group(0)}') # Tagged Group"
   ]
  },
  {
   "cell_type": "code",
   "execution_count": null,
   "id": "df8f3da6",
   "metadata": {},
   "outputs": [],
   "source": [
    "Question 4"
   ]
  },
  {
   "cell_type": "code",
   "execution_count": null,
   "id": "bc9b7b88",
   "metadata": {},
   "outputs": [],
   "source": [
    "Here in the below Code Snippet . decimal is not tagged or captured. It will useful in scenarios where\n",
    "the separator of value in a string is of no use and we need to capture only the values."
   ]
  },
  {
   "cell_type": "code",
   "execution_count": 5,
   "id": "a2532756",
   "metadata": {},
   "outputs": [
    {
     "data": {
      "text/plain": [
       "('3366', '7590')"
      ]
     },
     "execution_count": 5,
     "metadata": {},
     "output_type": "execute_result"
    }
   ],
   "source": [
    "import re\n",
    "text='3366.7590'\n",
    "pattern=r'(\\d+)(?:.)(\\d+)'\n",
    "regobj=re.compile(pattern)\n",
    "matobj=regobj.search(text)\n",
    "matobj.groups()"
   ]
  },
  {
   "cell_type": "code",
   "execution_count": null,
   "id": "3b009915",
   "metadata": {},
   "outputs": [],
   "source": [
    "Question 5"
   ]
  },
  {
   "cell_type": "code",
   "execution_count": null,
   "id": "926904fc",
   "metadata": {},
   "outputs": [],
   "source": [
    "While counting the number of multiple lines or mutiple sentence in a string the positive look ahead\n",
    "makes a difference, without which we wont get the correct count of lines or sentences in a string."
   ]
  },
  {
   "cell_type": "code",
   "execution_count": null,
   "id": "4e86b712",
   "metadata": {},
   "outputs": [],
   "source": [
    "Question 6"
   ]
  },
  {
   "cell_type": "code",
   "execution_count": null,
   "id": "04423667",
   "metadata": {},
   "outputs": [],
   "source": [
    "Positive Lookahead allows to add a condition for what follows. Negative Lookahead is similar, but it\n",
    "looks behind. That is, it allows to match a pattern only if there’s something before it."
   ]
  },
  {
   "cell_type": "code",
   "execution_count": null,
   "id": "ec236134",
   "metadata": {},
   "outputs": [],
   "source": [
    "Question 7"
   ]
  },
  {
   "cell_type": "code",
   "execution_count": null,
   "id": "981b26ea",
   "metadata": {},
   "outputs": [],
   "source": [
    "Referring to groups by name rather than by number in a standard expression helps to keep the code\n",
    "clear and easy to understand."
   ]
  },
  {
   "cell_type": "code",
   "execution_count": null,
   "id": "ed62dbd8",
   "metadata": {},
   "outputs": [],
   "source": [
    "Question 8"
   ]
  },
  {
   "cell_type": "code",
   "execution_count": 7,
   "id": "1b2c00b2",
   "metadata": {},
   "outputs": [
    {
     "data": {
      "text/plain": [
       "['The', 'the']"
      ]
     },
     "execution_count": 7,
     "metadata": {},
     "output_type": "execute_result"
    }
   ],
   "source": [
    "import re\n",
    "text = \"The rain is getting to the city\"\n",
    "regobj=re.compile(r'(?P<w1>The)',re.I)\n",
    "regobj.findall(text)"
   ]
  },
  {
   "cell_type": "code",
   "execution_count": null,
   "id": "cbeea897",
   "metadata": {},
   "outputs": [],
   "source": [
    "Question 9"
   ]
  },
  {
   "cell_type": "code",
   "execution_count": null,
   "id": "5359da9e",
   "metadata": {},
   "outputs": [],
   "source": [
    "re.findall() module is used to search for all occurrences that match a given pattern. In contrast,\n",
    "re.search() will only return the first occurrence that matches the specified pattern. re.findall()\n",
    "will iterate over all the lines of the file and will return all non-overlapping matches of pattern in\n",
    "a single step."
   ]
  },
  {
   "cell_type": "code",
   "execution_count": null,
   "id": "ff1dbe7d",
   "metadata": {},
   "outputs": [],
   "source": [
    "Question 10"
   ]
  },
  {
   "cell_type": "code",
   "execution_count": null,
   "id": "de492beb",
   "metadata": {},
   "outputs": [],
   "source": [
    "Yes, It may have any name."
   ]
  }
 ],
 "metadata": {
  "kernelspec": {
   "display_name": "Python 3 (ipykernel)",
   "language": "python",
   "name": "python3"
  },
  "language_info": {
   "codemirror_mode": {
    "name": "ipython",
    "version": 3
   },
   "file_extension": ".py",
   "mimetype": "text/x-python",
   "name": "python",
   "nbconvert_exporter": "python",
   "pygments_lexer": "ipython3",
   "version": "3.9.7"
  }
 },
 "nbformat": 4,
 "nbformat_minor": 5
}
